{
 "cells": [
  {
   "cell_type": "code",
   "execution_count": 1,
   "id": "c007d2e8-c671-4597-9d96-774c36406874",
   "metadata": {},
   "outputs": [],
   "source": [
    "import numpy as np"
   ]
  },
  {
   "cell_type": "code",
   "execution_count": 2,
   "id": "62b3a3e1-0b79-44b8-99f8-fd661d0cb973",
   "metadata": {},
   "outputs": [
    {
     "name": "stdout",
     "output_type": "stream",
     "text": [
      "[45 56 67 60]\n",
      "<class 'numpy.ndarray'>\n",
      "int32\n"
     ]
    }
   ],
   "source": [
    "x = np.array([45,56,67,60])\n",
    "print(x)\n",
    "print(type(x))\n",
    "print(x.dtype)"
   ]
  },
  {
   "cell_type": "code",
   "execution_count": 3,
   "id": "b369bc8a-aaae-4a6f-bef3-5f691ffbbbed",
   "metadata": {},
   "outputs": [
    {
     "name": "stdout",
     "output_type": "stream",
     "text": [
      "[45.  56.  67.   8.9]\n",
      "<class 'numpy.ndarray'>\n",
      "float64\n"
     ]
    }
   ],
   "source": [
    "x = np.array([45,56,67,8.9])\n",
    "print(x)\n",
    "print(type(x))\n",
    "print(x.dtype)"
   ]
  },
  {
   "cell_type": "code",
   "execution_count": 4,
   "id": "93a53b15-9837-4c63-b0fc-22d6460f8e1c",
   "metadata": {},
   "outputs": [
    {
     "name": "stdout",
     "output_type": "stream",
     "text": [
      "['A' '56' '67' '8.9']\n",
      "<class 'numpy.ndarray'>\n",
      "<U32\n"
     ]
    }
   ],
   "source": [
    "x = np.array([\"A\",56,67,8.9])\n",
    "print(x)\n",
    "print(type(x))\n",
    "print(x.dtype)"
   ]
  },
  {
   "cell_type": "code",
   "execution_count": 6,
   "id": "19d93395-bb10-45d8-8ad0-33bb1ffa8024",
   "metadata": {},
   "outputs": [
    {
     "name": "stdout",
     "output_type": "stream",
     "text": [
      "[[10 20]\n",
      " [30 40]]\n",
      "(2, 2)\n"
     ]
    }
   ],
   "source": [
    "a = np.array([10,20,30,40])\n",
    "b = a.reshape(2,2)\n",
    "print(b)\n",
    "print(b.shape)"
   ]
  },
  {
   "cell_type": "code",
   "execution_count": 7,
   "id": "341885fd-da32-46fd-903f-4a0bc74abb26",
   "metadata": {},
   "outputs": [
    {
     "name": "stdout",
     "output_type": "stream",
     "text": [
      "[3]\n"
     ]
    },
    {
     "data": {
      "text/plain": [
       "numpy.ndarray"
      ]
     },
     "execution_count": 7,
     "metadata": {},
     "output_type": "execute_result"
    }
   ],
   "source": [
    "c = np.arange(3,4)\n",
    "print(c)\n",
    "type(c)"
   ]
  },
  {
   "cell_type": "code",
   "execution_count": 10,
   "id": "974e7782-fad2-43dd-819b-837e0498f93d",
   "metadata": {},
   "outputs": [
    {
     "name": "stdout",
     "output_type": "stream",
     "text": [
      "[1.43 3.45 2.45]\n"
     ]
    },
    {
     "data": {
      "text/plain": [
       "array([1.4, 3.4, 2.4])"
      ]
     },
     "execution_count": 10,
     "metadata": {},
     "output_type": "execute_result"
    }
   ],
   "source": [
    "d = np.array([1.43, 3.45, 2.45])\n",
    "print(d)\n",
    "np.around(d,1)"
   ]
  },
  {
   "cell_type": "code",
   "execution_count": 14,
   "id": "437c3679-6722-4710-b71a-3a784229169f",
   "metadata": {},
   "outputs": [
    {
     "name": "stdout",
     "output_type": "stream",
     "text": [
      "[1.3467  3.10987 4.912  ]\n",
      "[1.16 1.76 2.22]\n"
     ]
    }
   ],
   "source": [
    "d = np.array([1.3467, 3.10987, 4.912])\n",
    "print(d)\n",
    "print(np.around(np.sqrt(d),2))"
   ]
  },
  {
   "cell_type": "markdown",
   "id": "b73186ea-aeff-4bbe-a0d6-957cfd757fc2",
   "metadata": {},
   "source": [
    "a1 = np.array([[3,4,5,6],[4,5,6,8],[7,5,9,np.NaN]])\n",
    "print(a1)\n",
    "a1.type"
   ]
  },
  {
   "cell_type": "code",
   "execution_count": 16,
   "id": "b807937c-6bfd-4896-ac49-c3c6087fe249",
   "metadata": {},
   "outputs": [
    {
     "name": "stdout",
     "output_type": "stream",
     "text": [
      "[[ 3.  4.  5.  6.]\n",
      " [ 4.  5.  6.  8.]\n",
      " [ 7.  5.  9. nan]]\n"
     ]
    },
    {
     "data": {
      "text/plain": [
       "dtype('float64')"
      ]
     },
     "execution_count": 16,
     "metadata": {},
     "output_type": "execute_result"
    }
   ],
   "source": [
    "a1 = np.array([[3,4,5,6],[4,5,6,8],[7,5,9,np.NaN]]) \n",
    "print(a1) \n",
    "a1.dtype"
   ]
  },
  {
   "cell_type": "code",
   "execution_count": 17,
   "id": "fc533251-9e0c-4c88-ad7e-37b711c53ec9",
   "metadata": {},
   "outputs": [
    {
     "name": "stdout",
     "output_type": "stream",
     "text": [
      "[['3.0' '4.0' '5.0' '6.0']\n",
      " ['4.0' '5.0' '6.0' '8.0']\n",
      " ['7.0' '5.0' '9.0' 'nan']]\n"
     ]
    },
    {
     "data": {
      "text/plain": [
       "dtype('<U32')"
      ]
     },
     "execution_count": 17,
     "metadata": {},
     "output_type": "execute_result"
    }
   ],
   "source": [
    "a1 = np.array([[3,4,5,6],[4,5,6,8],[7,5,9,np.NaN]]) \n",
    "a1_copy1 = a1.astype(str)\n",
    "print(a1_copy1)\n",
    "a1_copy1.dtype"
   ]
  },
  {
   "cell_type": "code",
   "execution_count": 18,
   "id": "c6cf7132-c8fe-417b-b5f5-429402cdb219",
   "metadata": {},
   "outputs": [
    {
     "data": {
      "text/plain": [
       "array([[ 3,  4,  5,  6],\n",
       "       [ 4,  5,  6,  8],\n",
       "       [ 7,  5,  9, 12]])"
      ]
     },
     "execution_count": 18,
     "metadata": {},
     "output_type": "execute_result"
    }
   ],
   "source": [
    "a2 = np.array([[3,4,5,6],[4,5,6,8],[7,5,9,12]])\n",
    "a2\n"
   ]
  },
  {
   "cell_type": "code",
   "execution_count": 19,
   "id": "5771e064-3314-4e55-990c-b5b8657e7602",
   "metadata": {},
   "outputs": [
    {
     "name": "stdout",
     "output_type": "stream",
     "text": [
      "[18 23 33]\n"
     ]
    }
   ],
   "source": [
    "print(a2.sum(axis=1))"
   ]
  },
  {
   "cell_type": "code",
   "execution_count": 20,
   "id": "c602470f-ed6c-4b59-933b-fa6bc8d9477c",
   "metadata": {},
   "outputs": [
    {
     "name": "stdout",
     "output_type": "stream",
     "text": [
      "[14 14 20 26]\n"
     ]
    }
   ],
   "source": [
    "print(a2.sum(axis=0))"
   ]
  },
  {
   "cell_type": "code",
   "execution_count": 24,
   "id": "1bad2ca6-0589-402c-9047-2252ba6f9e53",
   "metadata": {},
   "outputs": [
    {
     "data": {
      "text/plain": [
       "array([[0, 4, 5],\n",
       "       [5, 0, 8],\n",
       "       [7, 5, 0]])"
      ]
     },
     "execution_count": 24,
     "metadata": {},
     "output_type": "execute_result"
    }
   ],
   "source": [
    "a3 = np.array([[3,4,5],[5,6,8],[7,5,9]])\n",
    "a3\n",
    "np.fill_diagonal(a3,0)\n",
    "a3"
   ]
  },
  {
   "cell_type": "code",
   "execution_count": 26,
   "id": "afbc72db-f2bf-42e5-ace3-0cd4be45e3a9",
   "metadata": {},
   "outputs": [
    {
     "data": {
      "text/plain": [
       "array([[0, 4, 5],\n",
       "       [5, 0, 8],\n",
       "       [7, 5, 0]])"
      ]
     },
     "execution_count": 26,
     "metadata": {},
     "output_type": "execute_result"
    }
   ],
   "source": [
    "a0 = np.array([[3,4,5],[5,6,8],[7,5,9]])\n",
    "a0\n",
    "np.fill_diagonal(a0,0)\n",
    "a0"
   ]
  },
  {
   "cell_type": "code",
   "execution_count": 28,
   "id": "edaf8f04-e839-43c1-8d9e-943c79047d78",
   "metadata": {},
   "outputs": [
    {
     "name": "stdout",
     "output_type": "stream",
     "text": [
      "[[ 8 15]\n",
      " [13 24]]\n"
     ]
    }
   ],
   "source": [
    "A = np.array([[1,2], [2,3]])\n",
    "B = np.array([[2,3], [3,6]])\n",
    "C = np.matmul(A, B)\n",
    "print(C)"
   ]
  },
  {
   "cell_type": "code",
   "execution_count": 29,
   "id": "b5942133-1823-4073-a21c-9e0aacb71e3b",
   "metadata": {},
   "outputs": [
    {
     "data": {
      "text/plain": [
       "array([[3, 4, 5],\n",
       "       [5, 6, 8],\n",
       "       [7, 5, 9],\n",
       "       [5, 5, 7]])"
      ]
     },
     "execution_count": 29,
     "metadata": {},
     "output_type": "execute_result"
    }
   ],
   "source": [
    "a4 = np.array([[3,4,5],[5,6,8],[7,5,9],[5,5,7]])\n",
    "a4\n"
   ]
  },
  {
   "cell_type": "code",
   "execution_count": null,
   "id": "cdcddd8c-5ab7-43a9-9347-49b10f0cb039",
   "metadata": {},
   "outputs": [],
   "source": []
  }
 ],
 "metadata": {
  "kernelspec": {
   "display_name": "Python 3 (ipykernel)",
   "language": "python",
   "name": "python3"
  },
  "language_info": {
   "codemirror_mode": {
    "name": "ipython",
    "version": 3
   },
   "file_extension": ".py",
   "mimetype": "text/x-python",
   "name": "python",
   "nbconvert_exporter": "python",
   "pygments_lexer": "ipython3",
   "version": "3.12.7"
  }
 },
 "nbformat": 4,
 "nbformat_minor": 5
}
