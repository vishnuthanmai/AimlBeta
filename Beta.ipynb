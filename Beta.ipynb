{
 "cells": [
  {
   "cell_type": "code",
   "execution_count": 2,
   "id": "9abf73ab-b69b-499e-ad1c-709efe49f57e",
   "metadata": {},
   "outputs": [],
   "source": [
    "L=[100,50,193,443,256,53,1000]"
   ]
  },
  {
   "cell_type": "code",
   "execution_count": 10,
   "id": "cc4ac211-0b93-4ea1-86b1-e92046e01816",
   "metadata": {},
   "outputs": [],
   "source": [
    "L1 = []\n",
    "L2 =[]\n",
    "for x in L:\n",
    "    if x%2 ==0:\n",
    "        L1.append(x)\n",
    "    else:\n",
    "        L2.append(x)"
   ]
  },
  {
   "cell_type": "code",
   "execution_count": 11,
   "id": "3a214d52-73ae-45cd-a9a2-d0ad19387532",
   "metadata": {},
   "outputs": [
    {
     "data": {
      "text/plain": [
       "[100, 50, 256, 1000]"
      ]
     },
     "execution_count": 11,
     "metadata": {},
     "output_type": "execute_result"
    }
   ],
   "source": [
    "L1"
   ]
  },
  {
   "cell_type": "code",
   "execution_count": 12,
   "id": "fe89a65f-86a8-4a62-8b91-65160d6d4110",
   "metadata": {},
   "outputs": [
    {
     "data": {
      "text/plain": [
       "[193, 443, 53]"
      ]
     },
     "execution_count": 12,
     "metadata": {},
     "output_type": "execute_result"
    }
   ],
   "source": [
    "L2"
   ]
  },
  {
   "cell_type": "code",
   "execution_count": null,
   "id": "33eea289-e8d4-42ed-a3a6-7e5984216941",
   "metadata": {},
   "outputs": [],
   "source": [
    "L=[\"A\",100,\"B\",20.5,True,6+8j]"
   ]
  },
  {
   "cell_type": "code",
   "execution_count": 6,
   "id": "bb3f2607-421d-4c1d-9455-074e6d430822",
   "metadata": {},
   "outputs": [],
   "source": [
    "L1 =[]\n",
    "L2 =[]\n",
    "L3 =[]\n",
    "L4 =[]\n",
    "for x in L:\n",
    "    if type(x) == int:\n",
    "        L1.append(x)\n",
    "    elif type(x) == float:\n",
    "        L1.append(x)\n",
    "        print(L1)\n",
    "    elif type(x) == bool:\n",
    "        L2.append(x)\n",
    "        print(L2)"
   ]
  },
  {
   "cell_type": "code",
   "execution_count": 3,
   "id": "6cfdbdc7-ba2e-4b38-af14-b0e83104c021",
   "metadata": {},
   "outputs": [
    {
     "name": "stdout",
     "output_type": "stream",
     "text": [
      "Welcome to aiml class\n",
      "We started with python\n",
      "This is an awesome class\n"
     ]
    }
   ],
   "source": [
    "str1 = \"Welcome to aiml class\"\n",
    "print(str1)\n",
    "str2 = 'We started with python'\n",
    "print(str2)\n",
    "str3 = '''This is an awesome class'''\n",
    "print(str3)"
   ]
  },
  {
   "cell_type": "code",
   "execution_count": 4,
   "id": "fe9780b7-e0f4-48bd-a231-219931551f32",
   "metadata": {},
   "outputs": [
    {
     "name": "stdout",
     "output_type": "stream",
     "text": [
      "he said,\"Its awesome!\"\n"
     ]
    }
   ],
   "source": [
    "str='he said,\"Its awesome!\"'\n",
    "print(str)"
   ]
  },
  {
   "cell_type": "code",
   "execution_count": 5,
   "id": "8f9784bf-925b-4406-ab13-d9a4c5a496b8",
   "metadata": {},
   "outputs": [
    {
     "data": {
      "text/plain": [
       "['__add__',\n",
       " '__class__',\n",
       " '__contains__',\n",
       " '__delattr__',\n",
       " '__dir__',\n",
       " '__doc__',\n",
       " '__eq__',\n",
       " '__format__',\n",
       " '__ge__',\n",
       " '__getattribute__',\n",
       " '__getitem__',\n",
       " '__getnewargs__',\n",
       " '__getstate__',\n",
       " '__gt__',\n",
       " '__hash__',\n",
       " '__init__',\n",
       " '__init_subclass__',\n",
       " '__iter__',\n",
       " '__le__',\n",
       " '__len__',\n",
       " '__lt__',\n",
       " '__mod__',\n",
       " '__mul__',\n",
       " '__ne__',\n",
       " '__new__',\n",
       " '__reduce__',\n",
       " '__reduce_ex__',\n",
       " '__repr__',\n",
       " '__rmod__',\n",
       " '__rmul__',\n",
       " '__setattr__',\n",
       " '__sizeof__',\n",
       " '__str__',\n",
       " '__subclasshook__',\n",
       " 'capitalize',\n",
       " 'casefold',\n",
       " 'center',\n",
       " 'count',\n",
       " 'encode',\n",
       " 'endswith',\n",
       " 'expandtabs',\n",
       " 'find',\n",
       " 'format',\n",
       " 'format_map',\n",
       " 'index',\n",
       " 'isalnum',\n",
       " 'isalpha',\n",
       " 'isascii',\n",
       " 'isdecimal',\n",
       " 'isdigit',\n",
       " 'isidentifier',\n",
       " 'islower',\n",
       " 'isnumeric',\n",
       " 'isprintable',\n",
       " 'isspace',\n",
       " 'istitle',\n",
       " 'isupper',\n",
       " 'join',\n",
       " 'ljust',\n",
       " 'lower',\n",
       " 'lstrip',\n",
       " 'maketrans',\n",
       " 'partition',\n",
       " 'removeprefix',\n",
       " 'removesuffix',\n",
       " 'replace',\n",
       " 'rfind',\n",
       " 'rindex',\n",
       " 'rjust',\n",
       " 'rpartition',\n",
       " 'rsplit',\n",
       " 'rstrip',\n",
       " 'split',\n",
       " 'splitlines',\n",
       " 'startswith',\n",
       " 'strip',\n",
       " 'swapcase',\n",
       " 'title',\n",
       " 'translate',\n",
       " 'upper',\n",
       " 'zfill']"
      ]
     },
     "execution_count": 5,
     "metadata": {},
     "output_type": "execute_result"
    }
   ],
   "source": [
    "dir(str)"
   ]
  },
  {
   "cell_type": "code",
   "execution_count": 6,
   "id": "72703e9b-9a9a-41ef-845b-b22685a82502",
   "metadata": {},
   "outputs": [
    {
     "data": {
      "text/plain": [
       "'he said,\"Its awesome!'"
      ]
     },
     "execution_count": 6,
     "metadata": {},
     "output_type": "execute_result"
    }
   ],
   "source": [
    "str[:-1]"
   ]
  },
  {
   "cell_type": "code",
   "execution_count": 7,
   "id": "5a1def3b-b34b-4282-86c9-8d02cf2f6494",
   "metadata": {},
   "outputs": [
    {
     "data": {
      "text/plain": [
       "'ssalc lmia ot emocleW'"
      ]
     },
     "execution_count": 7,
     "metadata": {},
     "output_type": "execute_result"
    }
   ],
   "source": [
    "str1[::-1]"
   ]
  },
  {
   "cell_type": "code",
   "execution_count": 8,
   "id": "87d96692-4593-4f84-b291-d8ba670ce044",
   "metadata": {},
   "outputs": [
    {
     "name": "stdout",
     "output_type": "stream",
     "text": [
      "Welcome to aiml class\n"
     ]
    },
    {
     "data": {
      "text/plain": [
       "['Welcome', 'to', 'aiml', 'class']"
      ]
     },
     "execution_count": 8,
     "metadata": {},
     "output_type": "execute_result"
    }
   ],
   "source": [
    "print(str1)\n",
    "str1.split()"
   ]
  },
  {
   "cell_type": "code",
   "execution_count": 12,
   "id": "93967f0d-f924-4c45-9dbf-ef7a351c2a91",
   "metadata": {},
   "outputs": [],
   "source": [
    "reviews=[\"The product is awesome\", \"Great service\"]"
   ]
  },
  {
   "cell_type": "code",
   "execution_count": 14,
   "id": "5b1bab52-6280-4095-9edd-fd6afe955f7f",
   "metadata": {},
   "outputs": [
    {
     "data": {
      "text/plain": [
       "'The product is awesome Great service'"
      ]
     },
     "execution_count": 14,
     "metadata": {},
     "output_type": "execute_result"
    }
   ],
   "source": [
    "joined_string=' '.join(reviews)\n",
    "joined_string"
   ]
  },
  {
   "cell_type": "code",
   "execution_count": 15,
   "id": "30c8aa55-42b5-434e-ae57-b21eb766c6e3",
   "metadata": {},
   "outputs": [
    {
     "data": {
      "text/plain": [
       "'Hey,frnd how are you?'"
      ]
     },
     "execution_count": 15,
     "metadata": {},
     "output_type": "execute_result"
    }
   ],
   "source": [
    "str=\"Hey,frnd how are you?\"\n",
    "str"
   ]
  },
  {
   "cell_type": "code",
   "execution_count": 16,
   "id": "ba3c086b-6571-4a7d-9078-1a4aa62aab43",
   "metadata": {},
   "outputs": [
    {
     "data": {
      "text/plain": [
       "'Hey,frnd how are you?'"
      ]
     },
     "execution_count": 16,
     "metadata": {},
     "output_type": "execute_result"
    }
   ],
   "source": [
    "str.strip()"
   ]
  },
  {
   "cell_type": "code",
   "execution_count": 17,
   "id": "d9403b0e-5adb-40ec-99fe-32631348ba57",
   "metadata": {},
   "outputs": [],
   "source": [
    "d1 = { \"Ram\": 180, \"Shyam\": 170, \"Ramya\": 176}"
   ]
  },
  {
   "cell_type": "code",
   "execution_count": 18,
   "id": "22211b9d-a985-4246-b605-76810b88a3fe",
   "metadata": {},
   "outputs": [
    {
     "name": "stdout",
     "output_type": "stream",
     "text": [
      "Ram\n",
      "Shyam\n",
      "Ramya\n"
     ]
    }
   ],
   "source": [
    "for k in d1.keys():\n",
    "    print(k)"
   ]
  },
  {
   "cell_type": "code",
   "execution_count": 19,
   "id": "9a224adc-40fa-4285-ae3f-4015ce6f38b9",
   "metadata": {},
   "outputs": [
    {
     "name": "stdout",
     "output_type": "stream",
     "text": [
      "180\n",
      "170\n",
      "176\n"
     ]
    }
   ],
   "source": [
    "for v in d1.values():\n",
    "    print(v)"
   ]
  },
  {
   "cell_type": "code",
   "execution_count": 20,
   "id": "0803e820-13cd-4802-88f2-488830fad64b",
   "metadata": {},
   "outputs": [
    {
     "name": "stdout",
     "output_type": "stream",
     "text": [
      "Ram 180\n",
      "Shyam 170\n",
      "Ramya 176\n"
     ]
    }
   ],
   "source": [
    "for k,v in d1.items():\n",
    "    print(k,v)"
   ]
  },
  {
   "cell_type": "code",
   "execution_count": 21,
   "id": "bfd8cdbc-b0b4-4020-83b5-113236ae16c9",
   "metadata": {},
   "outputs": [
    {
     "data": {
      "text/plain": [
       "{'Ram': 180, 'Shyam': 170, 'Ramya': 176, 'John': 165}"
      ]
     },
     "execution_count": 21,
     "metadata": {},
     "output_type": "execute_result"
    }
   ],
   "source": [
    "d1[\"John\"] = 165\n",
    "d1"
   ]
  },
  {
   "cell_type": "code",
   "execution_count": null,
   "id": "896a2fef-7d48-473b-817b-a64c605d17c0",
   "metadata": {},
   "outputs": [],
   "source": []
  }
 ],
 "metadata": {
  "kernelspec": {
   "display_name": "Python 3 (ipykernel)",
   "language": "python",
   "name": "python3"
  },
  "language_info": {
   "codemirror_mode": {
    "name": "ipython",
    "version": 3
   },
   "file_extension": ".py",
   "mimetype": "text/x-python",
   "name": "python",
   "nbconvert_exporter": "python",
   "pygments_lexer": "ipython3",
   "version": "3.12.7"
  }
 },
 "nbformat": 4,
 "nbformat_minor": 5
}
